{
 "cells": [
  {
   "cell_type": "markdown",
   "id": "overhead-clinic",
   "metadata": {},
   "source": [
    "# Part 0: Dataloader and Visualizations"
   ]
  },
  {
   "cell_type": "code",
   "execution_count": 1,
   "id": "moved-crisis",
   "metadata": {},
   "outputs": [],
   "source": [
    "import torch\n",
    "import wandb\n",
    "import scipy.io\n",
    "\n",
    "import numpy as np\n",
    "\n",
    "import torch.nn as nnE\n",
    "import torch.nn.functional as F\n",
    "import torchvision.models as models\n",
    "from torchvision import transforms, datasets\n",
    "from torch.utils.data import DataLoader\n",
    "\n",
    "from voc_dataset import VOCDataset\n",
    "\n",
    "from PIL import Image\n",
    "\n",
    "from utils import *\n",
    "\n",
    "USE_WANDB = False"
   ]
  },
  {
   "cell_type": "markdown",
   "id": "angry-prague",
   "metadata": {},
   "source": [
    "## Editing the Dataloader\n",
    "The first part of the assignment involves editing the dataloader so that we can access bounding-box proposals as well as the ground-truth bounding boxes. The ground truth bounding box can be accessed through the VOC Dataset annotations itself. Unsupervised bounding box proposals are obtained through methods such as [Selective Search](https://ivi.fnwi.uva.nl/isis/publications/2013/UijlingsIJCV2013/UijlingsIJCV2013.pdf).\n",
    "\n",
    "Since Selective Search is slow to run on each image, we have pre-computed the bounding box proposals. You should be able to access the `.mat` files using `scipy.io.loadmat('file.mat')`. Feel free to experiment with the data in the files to figure out the number of proposals per image, their scores, etc.\n",
    "\n",
    "Your task is to change the dataloader to obtain the ground-truth bounding boxes, as well as the proposed bounding boxes for each image. Returning a dictionary would be convenient here. For the bounding boxes, using the relative positions is usually a better idea since they are invariant to changes in the size of the image."
   ]
  },
  {
   "cell_type": "code",
   "execution_count": 2,
   "id": "thousand-messaging",
   "metadata": {},
   "outputs": [],
   "source": [
    "# Load the Dataset - items at a particular index can be accesed by usual indexing notation (dataset[idx])\n",
    "dataset = VOCDataset('trainval', top_n=10)"
   ]
  },
  {
   "cell_type": "code",
   "execution_count": 50,
   "id": "confused-witness",
   "metadata": {
    "scrolled": true
   },
   "outputs": [
    {
     "name": "stdout",
     "output_type": "stream",
     "text": [
      "ground truth classes:\n",
      "train\n"
     ]
    }
   ],
   "source": [
    "#TODO: get the image information from index 2020\n",
    "idx = 2020\n",
    "image_data = dataset[2020]\n",
    "rois = image_data['rois']\n",
    "image = image_data['image']\n",
    "gt_labels = image_data['gt_classes']\n",
    "gt_boxes = image_data['gt_boxes']\n",
    "\n",
    "class_id_to_label = dict(enumerate(dataset.CLASS_NAMES))\n",
    "print(\"ground truth classes:\")\n",
    "for label in gt_labels:\n",
    "     print(VOCDataset.get_class_name(label))"
   ]
  },
  {
   "cell_type": "markdown",
   "id": "rational-recycling",
   "metadata": {},
   "source": [
    "## Wandb Init and Logging\n",
    "Initialize a Weights and Biases project, and convert the image tensor to a PIL image and plot it (check `utils.py` for helper functions).\n",
    "\n",
    "You can use [this](https://docs.wandb.ai/library/log) as a reference for logging syntax."
   ]
  },
  {
   "cell_type": "code",
   "execution_count": 48,
   "id": "conventional-flexibility",
   "metadata": {},
   "outputs": [],
   "source": [
    "if USE_WANDB:\n",
    "    wandb.init(project=\"vlr2\", reinit=True)"
   ]
  },
  {
   "cell_type": "markdown",
   "id": "demanding-ladder",
   "metadata": {},
   "source": [
    "See this block as an example of plotting the ground truth box for an image."
   ]
  },
  {
   "cell_type": "code",
   "execution_count": 49,
   "id": "resistant-concert",
   "metadata": {},
   "outputs": [],
   "source": [
    "class_id_to_label = dict(enumerate(dataset.CLASS_NAMES))\n",
    "\n",
    "\n",
    "img = wandb.Image(image, boxes={\n",
    "    \"predictions\": {\n",
    "        \"box_data\": get_box_data(gt_labels, gt_boxes),\n",
    "        \"class_labels\": class_id_to_label,\n",
    "    },\n",
    "})\n",
    "wandb.init(project=\"vlr2_q0_gt\", reinit=True)\n",
    "wandb.log({\"images_gt\": img})"
   ]
  },
  {
   "cell_type": "markdown",
   "id": "matched-thread",
   "metadata": {},
   "source": [
    "Check the `get_box_data` function in `utils.py` and understand how it is being used. Log the image with the GT bounding box on wandb.\n",
    "After, this you should be able to easily plot the top 10 bounding proposals as well."
   ]
  },
  {
   "cell_type": "code",
   "execution_count": 39,
   "id": "floating-repository",
   "metadata": {
    "scrolled": true
   },
   "outputs": [
    {
     "data": {
      "text/html": [
       "Finishing last run (ID:3vmnvkrq) before initializing another..."
      ],
      "text/plain": [
       "<IPython.core.display.HTML object>"
      ]
     },
     "metadata": {},
     "output_type": "display_data"
    },
    {
     "name": "stdout",
     "output_type": "stream",
     "text": [
      "\n"
     ]
    },
    {
     "data": {
      "text/html": [
       "Waiting for W&B process to finish... <strong style=\"color:green\">(success).</strong>"
      ],
      "text/plain": [
       "<IPython.core.display.HTML object>"
      ]
     },
     "metadata": {},
     "output_type": "display_data"
    },
    {
     "data": {
      "application/vnd.jupyter.widget-view+json": {
       "model_id": "",
       "version_major": 2,
       "version_minor": 0
      },
      "text/plain": [
       "VBox(children=(Label(value='0.086 MB of 0.086 MB uploaded (0.000 MB deduped)\\r'), FloatProgress(value=1.0, max…"
      ]
     },
     "metadata": {},
     "output_type": "display_data"
    },
    {
     "data": {
      "text/html": [
       "Synced <strong style=\"color:#cdcd00\">trim-sound-1</strong>: <a href=\"https://wandb.ai/rohana/vlr2_/runs/3vmnvkrq\" target=\"_blank\">https://wandb.ai/rohana/vlr2_/runs/3vmnvkrq</a><br/>Synced 5 W&B file(s), 2 media file(s), 0 artifact file(s) and 0 other file(s)"
      ],
      "text/plain": [
       "<IPython.core.display.HTML object>"
      ]
     },
     "metadata": {},
     "output_type": "display_data"
    },
    {
     "data": {
      "text/html": [
       "Find logs at: <code>./wandb/run-20220319_132526-3vmnvkrq/logs</code>"
      ],
      "text/plain": [
       "<IPython.core.display.HTML object>"
      ]
     },
     "metadata": {},
     "output_type": "display_data"
    },
    {
     "data": {
      "text/html": [
       "Successfully finished last run (ID:3vmnvkrq). Initializing new run:<br/>"
      ],
      "text/plain": [
       "<IPython.core.display.HTML object>"
      ]
     },
     "metadata": {},
     "output_type": "display_data"
    },
    {
     "data": {
      "text/html": [
       "Tracking run with wandb version 0.12.11"
      ],
      "text/plain": [
       "<IPython.core.display.HTML object>"
      ]
     },
     "metadata": {},
     "output_type": "display_data"
    },
    {
     "data": {
      "text/html": [
       "Run data is saved locally in <code>/Users/rohanagarwal/Documents/VLR/hw2/wandb/run-20220319_132631-1xug7vz1</code>"
      ],
      "text/plain": [
       "<IPython.core.display.HTML object>"
      ]
     },
     "metadata": {},
     "output_type": "display_data"
    },
    {
     "data": {
      "text/html": [
       "Syncing run <strong><a href=\"https://wandb.ai/rohana/vlr2_q0_gt/runs/1xug7vz1\" target=\"_blank\">absurd-music-1</a></strong> to <a href=\"https://wandb.ai/rohana/vlr2_q0_gt\" target=\"_blank\">Weights & Biases</a> (<a href=\"https://wandb.me/run\" target=\"_blank\">docs</a>)<br/>"
      ],
      "text/plain": [
       "<IPython.core.display.HTML object>"
      ]
     },
     "metadata": {},
     "output_type": "display_data"
    }
   ],
   "source": [
    "#TODO: plot top ten proposals (of bounding boxes)\n",
    "\n",
    "nums = range(len(rois)) # placeholder ids for classes\n",
    "\n",
    "class_id_to_label = dict(enumerate(dataset.CLASS_NAMES))\n",
    "\n",
    "img = wandb.Image(image, boxes={\n",
    "    \"predictions\": {\n",
    "        \"box_data\": get_box_data(nums, rois),\n",
    "        \"class_labels\": class_id_to_label,\n",
    "    },\n",
    "})\n",
    "wandb.init(project=\"vlr2_q0_prop\", reinit=True)\n",
    "wandb.log({\"images_prop\": img})\n"
   ]
  },
  {
   "cell_type": "code",
   "execution_count": null,
   "id": "75b052db",
   "metadata": {},
   "outputs": [],
   "source": []
  },
  {
   "cell_type": "code",
   "execution_count": null,
   "id": "43846f21",
   "metadata": {},
   "outputs": [],
   "source": []
  }
 ],
 "metadata": {
  "kernelspec": {
   "display_name": "Python 3 (ipykernel)",
   "language": "python",
   "name": "python3"
  },
  "language_info": {
   "codemirror_mode": {
    "name": "ipython",
    "version": 3
   },
   "file_extension": ".py",
   "mimetype": "text/x-python",
   "name": "python",
   "nbconvert_exporter": "python",
   "pygments_lexer": "ipython3",
   "version": "3.9.7"
  }
 },
 "nbformat": 4,
 "nbformat_minor": 5
}